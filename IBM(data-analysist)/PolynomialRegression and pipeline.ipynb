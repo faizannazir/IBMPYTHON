{
 "cells": [
  {
   "cell_type": "code",
   "execution_count": 6,
   "id": "062c2121-19d1-4e4a-8663-a9975a1885e0",
   "metadata": {
    "tags": []
   },
   "outputs": [],
   "source": [
    "import numpy as np\n",
    "import pandas as pd\n",
    "import matplotlib.pyplot as plt\n",
    "import seaborn as sns\n",
    "from sklearn.linear_model import LinearRegression\n",
    "from sklearn.preprocessing import PolynomialFeatures"
   ]
  },
  {
   "cell_type": "markdown",
   "id": "e4fb234b-ba3e-40ea-b9b3-941ea88b3153",
   "metadata": {},
   "source": [
    "# Polynomial regression \n",
    "``` It is a special case of the general linear regression. ```\n",
    "This method is beneficial for describing \n",
    "``` curvilinear relationships. ``` <br>\n",
    "\n",
    "### ``` What is a curvilinear relationship? ```\n",
    "\n",
    "```It’s what you get by squaring or setting higher-order terms of the predictor variables\n",
    "in the model, transforming the data.```\n",
    "The model can be quadratic, which means that the predictor variable in the model is squared."
   ]
  },
  {
   "cell_type": "markdown",
   "id": "299739c9-0d13-4292-836c-21a0fa125839",
   "metadata": {},
   "source": [
    "# • Quadratic — 2nd order\n",
    " ``` Y = b0 + b1x1 + b2(x1)2  ```"
   ]
  },
  {
   "cell_type": "markdown",
   "id": "2952d682-a7f0-4476-a5da-dbc93facb186",
   "metadata": {},
   "source": [
    "# • Cubic — 3rd order\n",
    "``` Y = b0 + bl X1+b2( x1)2 + b3(x1)3 ``` \n"
   ]
  },
  {
   "cell_type": "markdown",
   "id": "419cd78a-552c-4461-b830-d69b9fe64cca",
   "metadata": {},
   "source": [
    "# • Higher order\n",
    " ``` Y = b0 + b1x1 + b2(x1)2 + b3(x1)3 + ....  ```"
   ]
  },
  {
   "cell_type": "code",
   "execution_count": 5,
   "id": "db56912f-2ee2-4d6e-8034-ecfc8f6776c9",
   "metadata": {
    "tags": []
   },
   "outputs": [
    {
     "name": "stdout",
     "output_type": "stream",
     "text": [
      "[-6.34968454e-16  9.53779861e-15  1.00000000e+01  1.00000000e+01]\n"
     ]
    }
   ],
   "source": [
    "x=[1,2,3,4,5]\n",
    "y = [20,30,40,50,60]\n",
    "p = np.polyfit(x,y,3)\n",
    "print(p)"
   ]
  },
  {
   "cell_type": "markdown",
   "id": "a5263b0a-87c3-43ad-a478-bede80be5711",
   "metadata": {},
   "source": [
    "x3 x2 x constant"
   ]
  },
  {
   "cell_type": "code",
   "execution_count": 17,
   "id": "fca81b5e-fd9f-48ba-aa19-dde7ab42c4a0",
   "metadata": {
    "tags": []
   },
   "outputs": [],
   "source": [
    "df = pd.read_csv(\"automobile.csv\")\n",
    "X = df[['horsepower','curb-weight']]\n",
    "y = df['price']"
   ]
  },
  {
   "cell_type": "markdown",
   "id": "6603d584-fd13-4731-a9a3-a8be68e6f2da",
   "metadata": {},
   "source": [
    "Multiple variables\n"
   ]
  },
  {
   "cell_type": "code",
   "execution_count": 9,
   "id": "14fa9e13-0ab2-4b2a-9d2a-58ccc948f41c",
   "metadata": {
    "tags": []
   },
   "outputs": [],
   "source": [
    "pr = PolynomialFeatures(degree = 2, include_bias=False)"
   ]
  },
  {
   "cell_type": "code",
   "execution_count": 10,
   "id": "2ba26c2c-7aa6-4c6c-8ad8-1c6f52088c0b",
   "metadata": {
    "tags": []
   },
   "outputs": [],
   "source": [
    "x_polly = pr.fit_transform(X)"
   ]
  },
  {
   "cell_type": "markdown",
   "id": "64db58e2-edf3-4c35-bf7d-2f1005ab23d2",
   "metadata": {},
   "source": [
    "# Pipelines"
   ]
  },
  {
   "cell_type": "code",
   "execution_count": 11,
   "id": "f342cfa3-bf86-439b-b025-15bdffd824bc",
   "metadata": {
    "tags": []
   },
   "outputs": [],
   "source": [
    "from sklearn.preprocessing import PolynomialFeatures\n",
    "from sklearn.linear_model import LinearRegression\n",
    "from sklearn.preprocessing import StandardScaler\n",
    "from sklearn.pipeline import Pipeline"
   ]
  },
  {
   "cell_type": "code",
   "execution_count": 13,
   "id": "fae862fd-d859-4a3a-9492-9d9d4953645a",
   "metadata": {
    "tags": []
   },
   "outputs": [],
   "source": [
    "# List of tupples\n",
    "Input = [('scale',StandardScaler()),('polynomial',PolynomialFeatures(degree = 2)),('model',LinearRegression())]"
   ]
  },
  {
   "cell_type": "code",
   "execution_count": 14,
   "id": "1acabddf-ba09-4cf0-9c80-14a72d9380e1",
   "metadata": {
    "tags": []
   },
   "outputs": [],
   "source": [
    "pipe = Pipeline(Input)"
   ]
  },
  {
   "cell_type": "code",
   "execution_count": 22,
   "id": "bd430e03-fabe-4289-a83e-e91e2c5b2dc6",
   "metadata": {
    "tags": []
   },
   "outputs": [
    {
     "data": {
      "text/html": [
       "<style>#sk-container-id-1 {color: black;background-color: white;}#sk-container-id-1 pre{padding: 0;}#sk-container-id-1 div.sk-toggleable {background-color: white;}#sk-container-id-1 label.sk-toggleable__label {cursor: pointer;display: block;width: 100%;margin-bottom: 0;padding: 0.3em;box-sizing: border-box;text-align: center;}#sk-container-id-1 label.sk-toggleable__label-arrow:before {content: \"▸\";float: left;margin-right: 0.25em;color: #696969;}#sk-container-id-1 label.sk-toggleable__label-arrow:hover:before {color: black;}#sk-container-id-1 div.sk-estimator:hover label.sk-toggleable__label-arrow:before {color: black;}#sk-container-id-1 div.sk-toggleable__content {max-height: 0;max-width: 0;overflow: hidden;text-align: left;background-color: #f0f8ff;}#sk-container-id-1 div.sk-toggleable__content pre {margin: 0.2em;color: black;border-radius: 0.25em;background-color: #f0f8ff;}#sk-container-id-1 input.sk-toggleable__control:checked~div.sk-toggleable__content {max-height: 200px;max-width: 100%;overflow: auto;}#sk-container-id-1 input.sk-toggleable__control:checked~label.sk-toggleable__label-arrow:before {content: \"▾\";}#sk-container-id-1 div.sk-estimator input.sk-toggleable__control:checked~label.sk-toggleable__label {background-color: #d4ebff;}#sk-container-id-1 div.sk-label input.sk-toggleable__control:checked~label.sk-toggleable__label {background-color: #d4ebff;}#sk-container-id-1 input.sk-hidden--visually {border: 0;clip: rect(1px 1px 1px 1px);clip: rect(1px, 1px, 1px, 1px);height: 1px;margin: -1px;overflow: hidden;padding: 0;position: absolute;width: 1px;}#sk-container-id-1 div.sk-estimator {font-family: monospace;background-color: #f0f8ff;border: 1px dotted black;border-radius: 0.25em;box-sizing: border-box;margin-bottom: 0.5em;}#sk-container-id-1 div.sk-estimator:hover {background-color: #d4ebff;}#sk-container-id-1 div.sk-parallel-item::after {content: \"\";width: 100%;border-bottom: 1px solid gray;flex-grow: 1;}#sk-container-id-1 div.sk-label:hover label.sk-toggleable__label {background-color: #d4ebff;}#sk-container-id-1 div.sk-serial::before {content: \"\";position: absolute;border-left: 1px solid gray;box-sizing: border-box;top: 0;bottom: 0;left: 50%;z-index: 0;}#sk-container-id-1 div.sk-serial {display: flex;flex-direction: column;align-items: center;background-color: white;padding-right: 0.2em;padding-left: 0.2em;position: relative;}#sk-container-id-1 div.sk-item {position: relative;z-index: 1;}#sk-container-id-1 div.sk-parallel {display: flex;align-items: stretch;justify-content: center;background-color: white;position: relative;}#sk-container-id-1 div.sk-item::before, #sk-container-id-1 div.sk-parallel-item::before {content: \"\";position: absolute;border-left: 1px solid gray;box-sizing: border-box;top: 0;bottom: 0;left: 50%;z-index: -1;}#sk-container-id-1 div.sk-parallel-item {display: flex;flex-direction: column;z-index: 1;position: relative;background-color: white;}#sk-container-id-1 div.sk-parallel-item:first-child::after {align-self: flex-end;width: 50%;}#sk-container-id-1 div.sk-parallel-item:last-child::after {align-self: flex-start;width: 50%;}#sk-container-id-1 div.sk-parallel-item:only-child::after {width: 0;}#sk-container-id-1 div.sk-dashed-wrapped {border: 1px dashed gray;margin: 0 0.4em 0.5em 0.4em;box-sizing: border-box;padding-bottom: 0.4em;background-color: white;}#sk-container-id-1 div.sk-label label {font-family: monospace;font-weight: bold;display: inline-block;line-height: 1.2em;}#sk-container-id-1 div.sk-label-container {text-align: center;}#sk-container-id-1 div.sk-container {/* jupyter's `normalize.less` sets `[hidden] { display: none; }` but bootstrap.min.css set `[hidden] { display: none !important; }` so we also need the `!important` here to be able to override the default hidden behavior on the sphinx rendered scikit-learn.org. See: https://github.com/scikit-learn/scikit-learn/issues/21755 */display: inline-block !important;position: relative;}#sk-container-id-1 div.sk-text-repr-fallback {display: none;}</style><div id=\"sk-container-id-1\" class=\"sk-top-container\"><div class=\"sk-text-repr-fallback\"><pre>Pipeline(steps=[(&#x27;scale&#x27;, StandardScaler()),\n",
       "                (&#x27;polynomial&#x27;, PolynomialFeatures()),\n",
       "                (&#x27;model&#x27;, LinearRegression())])</pre><b>In a Jupyter environment, please rerun this cell to show the HTML representation or trust the notebook. <br />On GitHub, the HTML representation is unable to render, please try loading this page with nbviewer.org.</b></div><div class=\"sk-container\" hidden><div class=\"sk-item sk-dashed-wrapped\"><div class=\"sk-label-container\"><div class=\"sk-label sk-toggleable\"><input class=\"sk-toggleable__control sk-hidden--visually\" id=\"sk-estimator-id-1\" type=\"checkbox\" ><label for=\"sk-estimator-id-1\" class=\"sk-toggleable__label sk-toggleable__label-arrow\">Pipeline</label><div class=\"sk-toggleable__content\"><pre>Pipeline(steps=[(&#x27;scale&#x27;, StandardScaler()),\n",
       "                (&#x27;polynomial&#x27;, PolynomialFeatures()),\n",
       "                (&#x27;model&#x27;, LinearRegression())])</pre></div></div></div><div class=\"sk-serial\"><div class=\"sk-item\"><div class=\"sk-estimator sk-toggleable\"><input class=\"sk-toggleable__control sk-hidden--visually\" id=\"sk-estimator-id-2\" type=\"checkbox\" ><label for=\"sk-estimator-id-2\" class=\"sk-toggleable__label sk-toggleable__label-arrow\">StandardScaler</label><div class=\"sk-toggleable__content\"><pre>StandardScaler()</pre></div></div></div><div class=\"sk-item\"><div class=\"sk-estimator sk-toggleable\"><input class=\"sk-toggleable__control sk-hidden--visually\" id=\"sk-estimator-id-3\" type=\"checkbox\" ><label for=\"sk-estimator-id-3\" class=\"sk-toggleable__label sk-toggleable__label-arrow\">PolynomialFeatures</label><div class=\"sk-toggleable__content\"><pre>PolynomialFeatures()</pre></div></div></div><div class=\"sk-item\"><div class=\"sk-estimator sk-toggleable\"><input class=\"sk-toggleable__control sk-hidden--visually\" id=\"sk-estimator-id-4\" type=\"checkbox\" ><label for=\"sk-estimator-id-4\" class=\"sk-toggleable__label sk-toggleable__label-arrow\">LinearRegression</label><div class=\"sk-toggleable__content\"><pre>LinearRegression()</pre></div></div></div></div></div></div></div>"
      ],
      "text/plain": [
       "Pipeline(steps=[('scale', StandardScaler()),\n",
       "                ('polynomial', PolynomialFeatures()),\n",
       "                ('model', LinearRegression())])"
      ]
     },
     "execution_count": 22,
     "metadata": {},
     "output_type": "execute_result"
    }
   ],
   "source": [
    "pipe"
   ]
  },
  {
   "cell_type": "code",
   "execution_count": 23,
   "id": "28950a34-2ccf-4280-92b4-cca04f4811fe",
   "metadata": {
    "tags": []
   },
   "outputs": [
    {
     "data": {
      "text/html": [
       "<style>#sk-container-id-2 {color: black;background-color: white;}#sk-container-id-2 pre{padding: 0;}#sk-container-id-2 div.sk-toggleable {background-color: white;}#sk-container-id-2 label.sk-toggleable__label {cursor: pointer;display: block;width: 100%;margin-bottom: 0;padding: 0.3em;box-sizing: border-box;text-align: center;}#sk-container-id-2 label.sk-toggleable__label-arrow:before {content: \"▸\";float: left;margin-right: 0.25em;color: #696969;}#sk-container-id-2 label.sk-toggleable__label-arrow:hover:before {color: black;}#sk-container-id-2 div.sk-estimator:hover label.sk-toggleable__label-arrow:before {color: black;}#sk-container-id-2 div.sk-toggleable__content {max-height: 0;max-width: 0;overflow: hidden;text-align: left;background-color: #f0f8ff;}#sk-container-id-2 div.sk-toggleable__content pre {margin: 0.2em;color: black;border-radius: 0.25em;background-color: #f0f8ff;}#sk-container-id-2 input.sk-toggleable__control:checked~div.sk-toggleable__content {max-height: 200px;max-width: 100%;overflow: auto;}#sk-container-id-2 input.sk-toggleable__control:checked~label.sk-toggleable__label-arrow:before {content: \"▾\";}#sk-container-id-2 div.sk-estimator input.sk-toggleable__control:checked~label.sk-toggleable__label {background-color: #d4ebff;}#sk-container-id-2 div.sk-label input.sk-toggleable__control:checked~label.sk-toggleable__label {background-color: #d4ebff;}#sk-container-id-2 input.sk-hidden--visually {border: 0;clip: rect(1px 1px 1px 1px);clip: rect(1px, 1px, 1px, 1px);height: 1px;margin: -1px;overflow: hidden;padding: 0;position: absolute;width: 1px;}#sk-container-id-2 div.sk-estimator {font-family: monospace;background-color: #f0f8ff;border: 1px dotted black;border-radius: 0.25em;box-sizing: border-box;margin-bottom: 0.5em;}#sk-container-id-2 div.sk-estimator:hover {background-color: #d4ebff;}#sk-container-id-2 div.sk-parallel-item::after {content: \"\";width: 100%;border-bottom: 1px solid gray;flex-grow: 1;}#sk-container-id-2 div.sk-label:hover label.sk-toggleable__label {background-color: #d4ebff;}#sk-container-id-2 div.sk-serial::before {content: \"\";position: absolute;border-left: 1px solid gray;box-sizing: border-box;top: 0;bottom: 0;left: 50%;z-index: 0;}#sk-container-id-2 div.sk-serial {display: flex;flex-direction: column;align-items: center;background-color: white;padding-right: 0.2em;padding-left: 0.2em;position: relative;}#sk-container-id-2 div.sk-item {position: relative;z-index: 1;}#sk-container-id-2 div.sk-parallel {display: flex;align-items: stretch;justify-content: center;background-color: white;position: relative;}#sk-container-id-2 div.sk-item::before, #sk-container-id-2 div.sk-parallel-item::before {content: \"\";position: absolute;border-left: 1px solid gray;box-sizing: border-box;top: 0;bottom: 0;left: 50%;z-index: -1;}#sk-container-id-2 div.sk-parallel-item {display: flex;flex-direction: column;z-index: 1;position: relative;background-color: white;}#sk-container-id-2 div.sk-parallel-item:first-child::after {align-self: flex-end;width: 50%;}#sk-container-id-2 div.sk-parallel-item:last-child::after {align-self: flex-start;width: 50%;}#sk-container-id-2 div.sk-parallel-item:only-child::after {width: 0;}#sk-container-id-2 div.sk-dashed-wrapped {border: 1px dashed gray;margin: 0 0.4em 0.5em 0.4em;box-sizing: border-box;padding-bottom: 0.4em;background-color: white;}#sk-container-id-2 div.sk-label label {font-family: monospace;font-weight: bold;display: inline-block;line-height: 1.2em;}#sk-container-id-2 div.sk-label-container {text-align: center;}#sk-container-id-2 div.sk-container {/* jupyter's `normalize.less` sets `[hidden] { display: none; }` but bootstrap.min.css set `[hidden] { display: none !important; }` so we also need the `!important` here to be able to override the default hidden behavior on the sphinx rendered scikit-learn.org. See: https://github.com/scikit-learn/scikit-learn/issues/21755 */display: inline-block !important;position: relative;}#sk-container-id-2 div.sk-text-repr-fallback {display: none;}</style><div id=\"sk-container-id-2\" class=\"sk-top-container\"><div class=\"sk-text-repr-fallback\"><pre>Pipeline(steps=[(&#x27;scale&#x27;, StandardScaler()),\n",
       "                (&#x27;polynomial&#x27;, PolynomialFeatures()),\n",
       "                (&#x27;model&#x27;, LinearRegression())])</pre><b>In a Jupyter environment, please rerun this cell to show the HTML representation or trust the notebook. <br />On GitHub, the HTML representation is unable to render, please try loading this page with nbviewer.org.</b></div><div class=\"sk-container\" hidden><div class=\"sk-item sk-dashed-wrapped\"><div class=\"sk-label-container\"><div class=\"sk-label sk-toggleable\"><input class=\"sk-toggleable__control sk-hidden--visually\" id=\"sk-estimator-id-5\" type=\"checkbox\" ><label for=\"sk-estimator-id-5\" class=\"sk-toggleable__label sk-toggleable__label-arrow\">Pipeline</label><div class=\"sk-toggleable__content\"><pre>Pipeline(steps=[(&#x27;scale&#x27;, StandardScaler()),\n",
       "                (&#x27;polynomial&#x27;, PolynomialFeatures()),\n",
       "                (&#x27;model&#x27;, LinearRegression())])</pre></div></div></div><div class=\"sk-serial\"><div class=\"sk-item\"><div class=\"sk-estimator sk-toggleable\"><input class=\"sk-toggleable__control sk-hidden--visually\" id=\"sk-estimator-id-6\" type=\"checkbox\" ><label for=\"sk-estimator-id-6\" class=\"sk-toggleable__label sk-toggleable__label-arrow\">StandardScaler</label><div class=\"sk-toggleable__content\"><pre>StandardScaler()</pre></div></div></div><div class=\"sk-item\"><div class=\"sk-estimator sk-toggleable\"><input class=\"sk-toggleable__control sk-hidden--visually\" id=\"sk-estimator-id-7\" type=\"checkbox\" ><label for=\"sk-estimator-id-7\" class=\"sk-toggleable__label sk-toggleable__label-arrow\">PolynomialFeatures</label><div class=\"sk-toggleable__content\"><pre>PolynomialFeatures()</pre></div></div></div><div class=\"sk-item\"><div class=\"sk-estimator sk-toggleable\"><input class=\"sk-toggleable__control sk-hidden--visually\" id=\"sk-estimator-id-8\" type=\"checkbox\" ><label for=\"sk-estimator-id-8\" class=\"sk-toggleable__label sk-toggleable__label-arrow\">LinearRegression</label><div class=\"sk-toggleable__content\"><pre>LinearRegression()</pre></div></div></div></div></div></div></div>"
      ],
      "text/plain": [
       "Pipeline(steps=[('scale', StandardScaler()),\n",
       "                ('polynomial', PolynomialFeatures()),\n",
       "                ('model', LinearRegression())])"
      ]
     },
     "execution_count": 23,
     "metadata": {},
     "output_type": "execute_result"
    }
   ],
   "source": [
    "pipe.fit(X,y)"
   ]
  },
  {
   "cell_type": "code",
   "execution_count": 24,
   "id": "6c9b1a2a-7195-4c5b-8735-9f92f13fd9ae",
   "metadata": {
    "tags": []
   },
   "outputs": [
    {
     "data": {
      "text/plain": [
       "array([12304.8015283 , 12304.8015283 , 18635.97327738, 10490.37565856,\n",
       "       14616.50976158, 11990.39363698, 14400.90471743, 15473.95370745,\n",
       "       19308.66240323, 10631.07283848, 10631.07283848, 14258.04626879,\n",
       "       14658.56523005, 17352.81754008, 25552.07976886, 27142.60587025,\n",
       "       28668.15284809,  5655.17811021,  6812.07296467,  6818.3612018 ,\n",
       "        6647.05707525,  6647.05707525,  9983.32508368,  6704.9947702 ,\n",
       "        6733.47353652,  6733.47353652, 10082.62339528, 10382.88417263,\n",
       "       17475.4539944 ,  5937.30691455,  7370.71104416,  6018.81781169,\n",
       "        7336.43789117,  7344.66628112,  7394.44176213,  7412.88843207,\n",
       "        8733.71263406,  8926.48576697,  8986.98196754,  9294.08705267,\n",
       "       10965.62911671, 10151.14321552,  8553.98801267, 12063.54103932,\n",
       "       37244.48090714, 37244.48090714, 46655.06493721,  6649.69516234,\n",
       "        6652.97663185,  6655.05396709,  6682.15106093,  6686.84799914,\n",
       "       10566.80441583, 10566.80441583, 10587.93615638, 14642.55631736,\n",
       "        9213.69563526,  9346.61374416,  9213.69563526,  9346.61374416,\n",
       "        8384.52874315,  9429.85741346, 13892.70198288, 10844.54417007,\n",
       "       23739.43275468, 27874.17027587, 23417.22903332, 28255.7516645 ,\n",
       "       29567.39191898, 28643.26521575, 34881.45318709, 31857.4024284 ,\n",
       "       22006.67938185,  6661.81723227,  6681.24660133,  6756.12172086,\n",
       "       10005.56757835, 12013.18415009,  9244.98278233, 17628.86363644,\n",
       "       18298.85277511, 18339.62726287,  9411.75955632,  9609.98849842,\n",
       "       12127.52639243, 12127.52639243,  6730.67819244,  5911.04365557,\n",
       "        6741.50223662,  6754.6720078 ,  6864.36935867,  6765.7297139 ,\n",
       "        6871.56724341,  6786.58365379,  6888.44358085,  6837.44064849,\n",
       "        9985.01954765,  9905.10126601, 20616.8380824 , 22816.71045887,\n",
       "       20281.85999609, 21293.54512183, 27382.36509246, 21936.82794732,\n",
       "       15422.42992636, 17622.86996523, 18170.59602009, 21208.4799404 ,\n",
       "       15997.54834783, 18412.26766808, 18902.81146095, 22147.07858561,\n",
       "       16092.56078993, 18412.26766808, 19961.5877684 ,  6661.81723227,\n",
       "        9983.32508368,  6704.9947702 ,  6733.47353652,  7258.36437998,\n",
       "       10382.88417263, 17523.65491254, 17023.66200125, 26564.4331908 ,\n",
       "       26564.4331908 , 26701.76354441, 11826.78735392, 11149.40635762,\n",
       "       12906.97611626, 13172.06241463, 13261.45929711, 13660.10001286,\n",
       "       19312.31929858, 19555.25801635,  6914.48541592,  7374.71015555,\n",
       "        7779.94734483,  8141.21512481,  8264.8139987 ,  9787.03057381,\n",
       "        9072.84782751, 12099.85489536,  8623.88759185, 10336.50702445,\n",
       "        9264.74132679, 12938.05017191,  6294.44080179,  6405.50575531,\n",
       "        6350.65568058,  7302.30369212,  7354.22362264, 15573.66187999,\n",
       "        7056.5263825 ,  7127.89696203,  6976.53568637,  6976.53568637,\n",
       "        7088.52756171,  7164.1360767 ,  7217.56162008,  7311.57059296,\n",
       "        7438.0694996 , 11290.24029462, 11376.67437085, 12737.79895087,\n",
       "       12716.88382114, 12796.27607872, 13580.31048274, 13827.90563438,\n",
       "       16123.99148832,  9561.52330076,  9093.38549313,  9963.2975131 ,\n",
       "        9963.2975131 , 10197.99496156, 20608.52770354, 20934.01260836,\n",
       "       21408.54035013, 21610.43325675,  6720.83802616,  8565.43661527,\n",
       "        6737.24412921,  8574.69364446,  8793.29638887,  7836.86187735,\n",
       "       10174.09582681,  9127.36087742,  9024.04795492, 12927.87582324,\n",
       "        9599.19169079, 10575.107618  , 15342.9203513 , 16611.85233362,\n",
       "       15568.8900422 , 16701.11518173, 21302.56012154, 22344.8026856 ,\n",
       "       15739.86962923, 21096.95046076, 18002.08277102, 18398.53842886,\n",
       "       16927.53225234])"
      ]
     },
     "execution_count": 24,
     "metadata": {},
     "output_type": "execute_result"
    }
   ],
   "source": [
    "pipe.predict(X)"
   ]
  },
  {
   "cell_type": "code",
   "execution_count": 30,
   "id": "57f8d100-43e9-4adc-9410-75719482146f",
   "metadata": {
    "tags": []
   },
   "outputs": [
    {
     "data": {
      "text/html": [
       "<div>\n",
       "<style scoped>\n",
       "    .dataframe tbody tr th:only-of-type {\n",
       "        vertical-align: middle;\n",
       "    }\n",
       "\n",
       "    .dataframe tbody tr th {\n",
       "        vertical-align: top;\n",
       "    }\n",
       "\n",
       "    .dataframe thead th {\n",
       "        text-align: right;\n",
       "    }\n",
       "</style>\n",
       "<table border=\"1\" class=\"dataframe\">\n",
       "  <thead>\n",
       "    <tr style=\"text-align: right;\">\n",
       "      <th></th>\n",
       "      <th>horsepower</th>\n",
       "      <th>curb-weight</th>\n",
       "    </tr>\n",
       "  </thead>\n",
       "  <tbody>\n",
       "    <tr>\n",
       "      <th>0</th>\n",
       "      <td>111.0</td>\n",
       "      <td>2548</td>\n",
       "    </tr>\n",
       "    <tr>\n",
       "      <th>1</th>\n",
       "      <td>111.0</td>\n",
       "      <td>2548</td>\n",
       "    </tr>\n",
       "    <tr>\n",
       "      <th>2</th>\n",
       "      <td>154.0</td>\n",
       "      <td>2823</td>\n",
       "    </tr>\n",
       "    <tr>\n",
       "      <th>3</th>\n",
       "      <td>102.0</td>\n",
       "      <td>2337</td>\n",
       "    </tr>\n",
       "    <tr>\n",
       "      <th>4</th>\n",
       "      <td>115.0</td>\n",
       "      <td>2824</td>\n",
       "    </tr>\n",
       "    <tr>\n",
       "      <th>...</th>\n",
       "      <td>...</td>\n",
       "      <td>...</td>\n",
       "    </tr>\n",
       "    <tr>\n",
       "      <th>196</th>\n",
       "      <td>114.0</td>\n",
       "      <td>2952</td>\n",
       "    </tr>\n",
       "    <tr>\n",
       "      <th>197</th>\n",
       "      <td>160.0</td>\n",
       "      <td>3049</td>\n",
       "    </tr>\n",
       "    <tr>\n",
       "      <th>198</th>\n",
       "      <td>134.0</td>\n",
       "      <td>3012</td>\n",
       "    </tr>\n",
       "    <tr>\n",
       "      <th>199</th>\n",
       "      <td>106.0</td>\n",
       "      <td>3217</td>\n",
       "    </tr>\n",
       "    <tr>\n",
       "      <th>200</th>\n",
       "      <td>114.0</td>\n",
       "      <td>3062</td>\n",
       "    </tr>\n",
       "  </tbody>\n",
       "</table>\n",
       "<p>201 rows × 2 columns</p>\n",
       "</div>"
      ],
      "text/plain": [
       "     horsepower  curb-weight\n",
       "0         111.0         2548\n",
       "1         111.0         2548\n",
       "2         154.0         2823\n",
       "3         102.0         2337\n",
       "4         115.0         2824\n",
       "..          ...          ...\n",
       "196       114.0         2952\n",
       "197       160.0         3049\n",
       "198       134.0         3012\n",
       "199       106.0         3217\n",
       "200       114.0         3062\n",
       "\n",
       "[201 rows x 2 columns]"
      ]
     },
     "execution_count": 30,
     "metadata": {},
     "output_type": "execute_result"
    }
   ],
   "source": [
    "X"
   ]
  },
  {
   "cell_type": "code",
   "execution_count": 31,
   "id": "6b40fdd7-fed3-4e14-873e-6d4c8da197b9",
   "metadata": {
    "tags": []
   },
   "outputs": [
    {
     "data": {
      "text/plain": [
       "0.810305585581694"
      ]
     },
     "execution_count": 31,
     "metadata": {},
     "output_type": "execute_result"
    }
   ],
   "source": [
    "pipe.score(X,y)"
   ]
  },
  {
   "cell_type": "code",
   "execution_count": null,
   "id": "134c5bcd-5202-43f4-a62d-97abe56cc2b2",
   "metadata": {},
   "outputs": [],
   "source": []
  }
 ],
 "metadata": {
  "kernelspec": {
   "display_name": "Python 3 (ipykernel)",
   "language": "python",
   "name": "python3"
  },
  "language_info": {
   "codemirror_mode": {
    "name": "ipython",
    "version": 3
   },
   "file_extension": ".py",
   "mimetype": "text/x-python",
   "name": "python",
   "nbconvert_exporter": "python",
   "pygments_lexer": "ipython3",
   "version": "3.11.0"
  }
 },
 "nbformat": 4,
 "nbformat_minor": 5
}
